{
 "cells": [
  {
   "cell_type": "markdown",
   "metadata": {},
   "source": [
    "# EnergyPlus and TRNSYS Example"
   ]
  },
  {
   "cell_type": "code",
   "execution_count": 1,
   "metadata": {},
   "outputs": [],
   "source": [
    "import os\n",
    "from zerobnl import CoSim"
   ]
  },
  {
   "cell_type": "markdown",
   "metadata": {},
   "source": [
    "You can safely ignore the following error (it will also be in the nodes logs):\n",
    "\n",
    "RuntimeWarning: numpy.dtype size changed, may indicate binary incompatibility. Expected 96, got 88\n",
    "\n",
    "-> [Numpy documentation](https://github.com/numpy/numpy/pull/432)"
   ]
  },
  {
   "cell_type": "code",
   "execution_count": 2,
   "metadata": {
    "scrolled": true
   },
   "outputs": [],
   "source": [
    "sim = CoSim()\n",
    "\n",
    "# There are 4 environments in this example.\n",
    "\n",
    "sim.create_meta_model(\"MetaPLANT\", [(\"COG_QDH\", \"kW\"),(\"COG_FlagIN\",\"-\"),(\"COG_mdotTOT\", \"kgs\")], [(\"COG_Tout\", \"Cdeg\"),(\"COG_MDOTtoTES\", \"kgs\"),(\"COG_MDOTfromTES\", \"kgs\"),(\"COG_TTESin\", \"Cdeg\"),(\"COG_soo\", \"-\"),(\"COG_MDOTtoLOAD\", \"kgs\")]) # Set, Get\n",
    "sim.create_environment(\"EnvPLANT\", \"wrapper_plant.py\", \"Dockerfile_na\")\n",
    "\n",
    "sim.create_meta_model(\"MetaLSHP\", [(\"LSHP_QDH\", \"kW\"),(\"LSHP_FlagIN\", \"-\")], [(\"LSHP_ToutL\", \"Cdeg\"),(\"LSHP_MDOTtoLOAD\", \"kgs\"),(\"LSHP_soo\", \"-\"),(\"LSHP_MDOTtoTES\", \"kgs\"),(\"LSHP_MDOTfromTES\", \"kgs\"),(\"LSHP_TTESin\", \"Cdeg\")]) # Set, Get\n",
    "sim.create_environment(\"EnvLSHP\", \"wrapper_lshp.py\", \"Dockerfile_lshp\")\n",
    "\n",
    "sim.create_meta_model(\"MetaTES\", [(\"TES_FlagIN\", \"-\"),(\"TES_Tin\",\"Cdeg\"),(\"TES_MDOTinC\",\"kgs\"),(\"TES_MDOTinD\",\"kgs\")],[(\"TES_ToutD\", \"Cdeg\"),(\"TES_socOUT\", \"-\"),(\"TES_MDOToutD\", \"kgs\"),(\"TES_soo\", \"-\")]) # Set, Get\n",
    "sim.create_environment(\"EnvTES\", \"wrapper_tes.py\", \"Dockerfile_tes\")\n",
    "\n",
    "sim.create_meta_model(\"MetaHOB\", [(\"HOB_Tset\", \"Cdeg\"),(\"HOB_FlagIN\",\"-\"),(\"HOB_MDOTin\",\"kgs\"),(\"HOB_Tin\",\"Cdeg\")],[(\"HOB_Q\",\"kW\"),(\"HOB_MDOTout\",\"kW\")]) # Set, Get\n",
    "sim.create_environment(\"EnvHOB\", \"wrapper_hob.py\", \"Dockerfile_hob\")\n",
    "\n",
    "sim.create_meta_model(\"MetaDEM1\", [(\"Tthermostat\", \"Cdeg\")], [(\"QDH\", \"W\"),(\"Tindoor\",\"Cdeg\")]) # Set, Get\n",
    "sim.create_environment(\"EnvDEM1\", \"wrapper_dem1.py\", \"Dockerfile_na\")\n",
    "sim.create_meta_model(\"MetaDEM2\", [(\"Tthermostat\", \"Cdeg\")], [(\"QDH\", \"W\"),(\"Tindoor\",\"Cdeg\")]) # Set, Get\n",
    "sim.create_environment(\"EnvDEM2\", \"wrapper_dem2.py\", \"Dockerfile_na\")\n",
    "\n",
    "sim.create_meta_model(\"MetaCTRL\", [(\"demandOK\", \"-\"),(\"demandOK_mdot\", \"-\"),(\"demandOK_price\", \"-\")], [(\"COG_FlagOUT\", \"-\"),(\"LSHP_FlagOUT\", \"-\"),(\"HOB_FlagOUT\", \"-\"),(\"TEScog_FlagOUT\", \"-\"),(\"TESlshp_FlagOUT\", \"-\")]) # Set, Get\n",
    "sim.create_environment(\"EnvCTRL\", \"wrapper_ctrl.py\", \"Dockerfile_ctrl\")\n",
    "\n",
    "sim.create_meta_model(\"MetaLCTRL\", [(\"TindoorIN_0\", \"Cdeg\"),(\"TindoorIN_1\", \"Cdeg\"),(\"mdotTOT\", \"kgs\"),(\"TEScog_socIN\", \"-\"),(\"TESlshp_socIN\", \"-\"),(\"ToutdoorP\", \"Cdeg\")], [(\"Tth_0\", \"Cdeg\"),(\"Tth_1\", \"Cdeg\"),(\"demandFlag\", \"-\"),(\"demandFlag_mdot\", \"-\"),(\"TsetP\", \"Cdeg\")]) # Set, Get\n",
    "sim.create_environment(\"EnvLCTRL\", \"wrapper_lctrl.py\", \"Dockerfile_lctrl\")\n",
    "\n",
    "sim.create_meta_model(\"MetaPCTRL\", [], [(\"demandFlag_price\", \"-\")]) # Set, Get\n",
    "sim.create_environment(\"EnvPCTRL\", \"wrapper_pctrl.py\", \"Dockerfile_pctrl\")\n",
    "\n",
    "sim.create_meta_model(\"MetaWEATHER\", [], [(\"TdryBulb\", \"Cdeg\")]) # Set, Get\n",
    "sim.create_environment(\"EnvWEATHER\", \"wrapper_weather.py\", \"Dockerfile_weather\")\n",
    "\n",
    "sim.create_meta_model(\"MetaHNET\", [(\"HNET_QDH_1\", \"W\"),(\"HNET_QDH_2\", \"W\"),(\"HNET_TsSET\", \"Cdeg\")], [(\"HNET_QDH\", \"kW\"),(\"HNET_MDOTtot\", \"kgs\")]) # Set, Get\n",
    "sim.create_environment(\"EnvHNET\", \"wrapper_shnet.py\", \"Dockerfile_shnet\")\n",
    "\n",
    "sim.create_meta_model(\"MetaISEL\", [(\"soo1\", \"-\"),(\"mdot1\", \"kgs\"),(\"Tin1\", \"Cdeg\"),(\"soo2\", \"-\"),(\"mdot2\", \"kgs\"),(\"Tin2\", \"Cdeg\"),(\"soo3\", \"-\"),(\"mdot3\", \"kgs\"),(\"Tin3\", \"Cdeg\"),(\"soo4\", \"-\"),(\"mdot4\", \"kgs\"),(\"Tin4\", \"Cdeg\")], [(\"mdot\", \"kgs\"),(\"Tout\", \"Cdeg\")]) # Set, Get\n",
    "sim.create_environment(\"EnvISEL\", \"wrapper_isel.py\", \"Dockerfile_isel\")\n",
    "\n",
    "# There is one model per each environment in this example. \n",
    "# OBS!! The name Base# indicates a model. Each model is contained in a node. There can be more nodes in each environment.\n",
    "sim.add_node(\"Base0\", \"MetaLCTRL\", \"EnvLCTRL\", init_values={},files=['TS_set.txt'],local=False)\n",
    "sim.add_node(\"Base0_1\", \"MetaPCTRL\", \"EnvPCTRL\", init_values={},files=['COGWaste_cost.txt','LSHP_cost.txt','ElPrices2016_Stockholm.txt'],local=False)\n",
    "sim.add_node(\"Base1\", \"MetaCTRL\", \"EnvCTRL\", init_values={},local=False)\n",
    "sim.add_node(\"Base2\", \"MetaPLANT\", \"EnvPLANT\", init_values={\"COG_QDH\":2000,\"COG_FlagIN\":1}, files=[\"COGplant.fmu\"],local=True)\n",
    "sim.add_node(\"Base2_1\", \"MetaLSHP\", \"EnvLSHP\", init_values={},local=False)\n",
    "sim.add_node(\"Base3\", \"MetaDEM1\", \"EnvDEM1\", init_values={}, files=[\"Residential_DH_1.fmu\"],local=True)\n",
    "sim.add_node(\"Base3_1\", \"MetaDEM2\", \"EnvDEM2\", init_values={}, files=[\"Residential_DH_2.fmu\"],local=True)\n",
    "sim.add_node(\"Base4\", \"MetaHOB\", \"EnvHOB\", init_values={},local=False)\n",
    "sim.add_node(\"Base5\", \"MetaTES\", \"EnvTES\", init_values={},local=False)\n",
    "sim.add_node(\"Base5_1\", \"MetaTES\", \"EnvTES\", init_values={},local=False)\n",
    "sim.add_node(\"Base6\", \"MetaWEATHER\", \"EnvWEATHER\", init_values={},files=['SWE_Stockholm.Arlanda.024600_IWEC.epw'],local=False)\n",
    "sim.add_node(\"Base7\", \"MetaHNET\", \"EnvHNET\", init_values={},local=False)\n",
    "sim.add_node(\"Base8\", \"MetaISEL\", \"EnvISEL\", init_values={},local=False)\n",
    "\n",
    "# Links among nodes\n",
    "sim.add_link(\"Base0\", \"Tth_0\", \"Base3\", \"Tthermostat\") # ok - Control on demand (Thermostat set point)\n",
    "sim.add_link(\"Base0\", \"Tth_1\", \"Base3_1\", \"Tthermostat\") # ok - Control on demand (Thermostat set point)\n",
    "sim.add_link(\"Base0\", \"demandFlag\", \"Base1\", \"demandOK\") # ok - Precontrol on the supply units based on weather (Tset) and demand (mdot) and availability of capacity in the buildings (Tindoor)\n",
    "sim.add_link(\"Base0\", \"demandFlag_mdot\", \"Base1\", \"demandOK_mdot\") # ok - Precontrol on the supply units based on weather (Tset) and demand (mdot) and availability of capacity in the buildings (Tindoor) \n",
    "sim.add_link(\"Base0_1\", \"demandFlag_price\", \"Base1\", \"demandOK_price\")\n",
    "sim.add_link(\"Base0\", \"TsetP\", \"Base4\", \"HOB_Tset\") # ok - Information passed onto the HOB to full fill the load's request\n",
    "sim.add_link(\"Base0\", \"TsetP\", \"Base7\", \"HNET_TsSET\") # ok - Information passed onto the HOB to full fill the load's request\n",
    "\n",
    "sim.add_link(\"Base1\", \"COG_FlagOUT\", \"Base2\", \"COG_FlagIN\") # ok - Control on COG \n",
    "sim.add_link(\"Base1\", \"LSHP_FlagOUT\", \"Base2_1\", \"LSHP_FlagIN\")\n",
    "sim.add_link(\"Base1\", \"HOB_FlagOUT\", \"Base4\", \"HOB_FlagIN\") # ok - Control on HOB\n",
    "sim.add_link(\"Base1\", \"TEScog_FlagOUT\", \"Base5\", \"TES_FlagIN\") # ok - Control on TES\n",
    "sim.add_link(\"Base1\", \"TESlshp_FlagOUT\", \"Base5_1\", \"TES_FlagIN\") \n",
    "\n",
    "sim.add_link(\"Base2\", \"COG_MDOTtoTES\", \"Base5\", \"TES_MDOTinC\") # ok Total - Direct interaction COG-TES\n",
    "sim.add_link(\"Base2\", \"COG_MDOTfromTES\", \"Base5\", \"TES_MDOTinD\") # ok Total - Direct interaction COG-TES\n",
    "sim.add_link(\"Base2\", \"COG_TTESin\", \"Base5\", \"TES_Tin\") # ok - Direct interaction COG-TES\n",
    "sim.add_link(\"Base2\", \"COG_Tout\", \"Base8\", \"Tin1\") # ok Total - Direct interaction COG-TES\n",
    "sim.add_link(\"Base2\", \"COG_MDOTtoLOAD\", \"Base8\", \"mdot1\") # ok - Direct interaction COG-TES\n",
    "sim.add_link(\"Base2\", \"COG_soo\", \"Base8\", \"soo1\") # ok - Direct interaction COG-TES\n",
    "\n",
    "sim.add_link(\"Base2_1\", \"LSHP_MDOTtoTES\", \"Base5_1\", \"TES_MDOTinC\") # ok Total - Direct interaction COG-TES\n",
    "sim.add_link(\"Base2_1\", \"LSHP_MDOTfromTES\", \"Base5_1\", \"TES_MDOTinD\") # ok Total - Direct interaction COG-TES\n",
    "sim.add_link(\"Base2_1\", \"LSHP_TTESin\", \"Base5_1\", \"TES_Tin\") # ok - Direct interaction COG-TES\n",
    "sim.add_link(\"Base2_1\", \"LSHP_ToutL\", \"Base8\", \"Tin3\") # ok Total - Direct interaction COG-TES\n",
    "sim.add_link(\"Base2_1\", \"LSHP_MDOTtoLOAD\", \"Base8\", \"mdot3\") # ok - Direct interaction COG-TES\n",
    "sim.add_link(\"Base2_1\", \"LSHP_soo\", \"Base8\", \"soo3\") # ok - Direct interaction COG-TES\n",
    "\n",
    "sim.add_link(\"Base3\", \"QDH\", \"Base7\", \"HNET_QDH_1\") # ok - Feedback to the supply system\n",
    "sim.add_link(\"Base3\", \"Tindoor\", \"Base0\", \"TindoorIN_0\") # ok - Feedback to the local control to define the supply units (1)\n",
    "sim.add_link(\"Base3_1\", \"Tindoor\", \"Base0\", \"TindoorIN_1\") # ok - Feedback to the local control to define the supply units (1)\n",
    "sim.add_link(\"Base3_1\", \"QDH\", \"Base7\", \"HNET_QDH_2\") # ok - Feedback to the supply system\n",
    "\n",
    "sim.add_link(\"Base5\", \"TES_ToutD\", \"Base8\", \"Tin2\") # ok - Direct interaction TES - HOB (dis)\n",
    "sim.add_link(\"Base5\", \"TES_MDOToutD\", \"Base8\", \"mdot2\") # ok Total - Direct interaction TES - HOB (dis)\n",
    "sim.add_link(\"Base5\", \"TES_soo\", \"Base8\", \"soo2\") # ok Total - Direct interaction TES - HOB (dis)\n",
    "sim.add_link(\"Base5\", \"TES_socOUT\", \"Base0\", \"TEScog_socIN\") # ok\n",
    "\n",
    "sim.add_link(\"Base5_1\", \"TES_ToutD\", \"Base8\", \"Tin4\") # ok - Direct interaction TES - HOB (dis)\n",
    "sim.add_link(\"Base5_1\", \"TES_MDOToutD\", \"Base8\", \"mdot4\") # ok Total - Direct interaction TES - HOB (dis)\n",
    "sim.add_link(\"Base5_1\", \"TES_soo\", \"Base8\", \"soo4\") # ok Total - Direct interaction TES - HOB (dis)\n",
    "sim.add_link(\"Base5_1\", \"TES_socOUT\", \"Base0\", \"TESlshp_socIN\") # ok\n",
    "\n",
    "sim.add_link(\"Base6\", \"TdryBulb\", \"Base0\", \"ToutdoorP\") # ok\n",
    "\n",
    "sim.add_link(\"Base7\", \"HNET_QDH\", \"Base2\", \"COG_QDH\") # ok\n",
    "sim.add_link(\"Base7\", \"HNET_QDH\", \"Base2_1\", \"LSHP_QDH\") # ok\n",
    "sim.add_link(\"Base7\", \"HNET_MDOTtot\", \"Base2\", \"COG_mdotTOT\") # ok Total\n",
    "sim.add_link(\"Base7\", \"HNET_MDOTtot\", \"Base0\", \"mdotTOT\") # ok Total\n",
    "\n",
    "sim.add_link(\"Base8\", \"mdot\", \"Base4\", \"HOB_MDOTin\") # ok Total - Direct interaction COG-HOB\n",
    "sim.add_link(\"Base8\", \"Tout\", \"Base4\", \"HOB_Tin\") # ok - Direct interaction COG-HOB\n",
    "\n",
    "# Create groups from the simulation sequence. Nodes in the same group run in parallel. \n",
    "# A group is defined within the first level of square brackets.\n",
    "sim.create_sequence([[\"Base3\",\"Base3_1\"],[\"Base7\"],[\"Base2\",\"Base2_1\"],[\"Base5\",\"Base5_1\"],[\"Base8\"],[\"Base4\"],[\"Base6\"],[\"Base0\",\"Base0_1\"],[\"Base1\"]])\n",
    "sim.set_time_unit(\"seconds\")\n",
    "sim.create_steps([3600] * 744)"
   ]
  },
  {
   "cell_type": "markdown",
   "metadata": {},
   "source": [
    "Once the next step has been launched, logging `INFO :: Waiting for local nodes to run..`, you need to run tho following command `wrapper_eplus.py Base1 GRP1` in the indicated folder (in a dedicated environment) in order to run the local node."
   ]
  },
  {
   "cell_type": "code",
   "execution_count": null,
   "metadata": {
    "scrolled": true
   },
   "outputs": [
    {
     "name": "stderr",
     "output_type": "stream",
     "text": [
      "WARNING :: Local node to run in [TMP_FOLDER\\base2] > python wrapper.py\n",
      "WARNING :: Local node to run in [TMP_FOLDER\\base3] > python wrapper.py\n",
      "WARNING :: Local node to run in [TMP_FOLDER\\base3_1] > python wrapper.py\n",
      "INFO :: Waiting for local nodes to run...\n"
     ]
    }
   ],
   "source": [
    "sim.run()"
   ]
  },
  {
   "cell_type": "markdown",
   "metadata": {},
   "source": [
    "If you see `INFO :: Simulation finished in X min and Y sec` it means everything went well.\n",
    "You can find logs of the nodes in the file `nodes.log`, it's a text file you can open it directly in Jupyter or in your favorite text editor.\n",
    "\n",
    "At the begining of the file you will find a serie of:\n",
    "\n",
    "`Step X/10 : DO SOMETHING\n",
    " ---> 29d2f3226daf`\n",
    " \n",
    "It's the logs of the creation of the Docker image, based on the provided Dockerfile (here `Dockerfile_base`).\n",
    "\n",
    "Then all the logs are structures in the same way:\n",
    "\n",
    "`<node>    | <level> :: <message>`\n",
    "\n",
    "* `node` refers to the concerned simulation node or orchestrator\n",
    "* `level` can be `DEBUG`: used for development purpose, `INFO`: giving you info on the running process, `WARNING`: warning you on action to make or some weird behaviour, `ERROR`: something went wrong and `CRITICAL`: something went really wrong.\n",
    "* `message` is the body of the log, it describes what's happening."
   ]
  },
  {
   "cell_type": "markdown",
   "metadata": {},
   "source": [
    "You can also find information on the ongoing simulation in the file `activity.log` (in the root folder for the main processus and on the temporary folder for each node)"
   ]
  },
  {
   "cell_type": "code",
   "execution_count": null,
   "metadata": {
    "scrolled": true
   },
   "outputs": [],
   "source": [
    "sim.connect_to_results_db()\n",
    "sim.get_list_of_available_results()"
   ]
  },
  {
   "cell_type": "markdown",
   "metadata": {},
   "source": [
    "The name to the stored results are build as `<type>||<node>||<attribute>`.\n",
    "\n",
    "`type` can be:\n",
    "* `IN` if it's an input attribute (to set - stored automatically)\n",
    "* `OUT` if it's an output attribute (to get - stored automatically)\n",
    "* `X` if it's an internal value (stored by the user, using the `save_attribute()` method in the wrapper)\n",
    "\n",
    "Knowing this, you can create matching pattern using `*` in order to properly select results."
   ]
  },
  {
   "cell_type": "code",
   "execution_count": null,
   "metadata": {},
   "outputs": [],
   "source": [
    "file1 = open('Results_Tset_Th_demFlag.csv','w')\n",
    "for key, value in sim.get_results_by_pattern(\"OUT*Base0*\").items():\n",
    "    print(key)\n",
    "    print(value) \n",
    "    file1.write(str(value))\n",
    "file1.close()"
   ]
  },
  {
   "cell_type": "code",
   "execution_count": null,
   "metadata": {},
   "outputs": [],
   "source": [
    "import matplotlib.pyplot as plt\n",
    "control = sim.get_results_by_pattern(\"OUT*Base0*\")\n",
    "control.keys()\n",
    "plt.figure(figsize=(18, 8))\n",
    "plt.plot(control['OUT||Base0||Tth_1'], \"o-\", alpha=1)\n",
    "plt.xlabel(xlabel='time (h)',fontsize=20)\n",
    "plt.ylabel(ylabel='Thermostat Setpoint (Cdeg)',fontsize=20)\n",
    "plt.savefig(\"Results\\Figures\\S5_Tth1.png\")"
   ]
  },
  {
   "cell_type": "code",
   "execution_count": null,
   "metadata": {},
   "outputs": [],
   "source": [
    "cogtes = sim.get_results_by_pattern(\"OUT*Base2*\")\n",
    "cogtes.keys()"
   ]
  },
  {
   "cell_type": "code",
   "execution_count": null,
   "metadata": {},
   "outputs": [],
   "source": [
    "boiler = sim.get_results_by_pattern(\"OUT*Base4*\")\n",
    "boiler.keys()"
   ]
  },
  {
   "cell_type": "code",
   "execution_count": null,
   "metadata": {},
   "outputs": [],
   "source": [
    "apt = sim.get_results_by_pattern(\"OUT*Base3*\")\n",
    "apt.keys()\n",
    "plt.figure(figsize=(18, 8))\n",
    "plt.plot(apt['OUT||Base3||Tindoor'], \"o-\", alpha=1)\n",
    "plt.xlabel(xlabel='time (h)',fontsize=20)\n",
    "plt.ylabel(ylabel='Indoor Temperature (Cdeg)',fontsize=20)\n",
    "plt.savefig(\"Results\\Figures\\S5_Tindoor1.png\")"
   ]
  },
  {
   "cell_type": "code",
   "execution_count": null,
   "metadata": {},
   "outputs": [],
   "source": [
    "qdh = sim.get_results_by_pattern(\"OUT*Base3*\")\n",
    "qdh.keys()"
   ]
  },
  {
   "cell_type": "code",
   "execution_count": null,
   "metadata": {},
   "outputs": [],
   "source": [
    "outtemp = sim.get_results_by_pattern(\"OUT*Base6*\")\n",
    "outtemp.keys()"
   ]
  },
  {
   "cell_type": "code",
   "execution_count": null,
   "metadata": {},
   "outputs": [],
   "source": [
    "plt.figure(figsize=(18, 8))\n",
    "plt.plot(outtemp['OUT||Base6||TdryBulb'], \"o-\", alpha=1)\n",
    "plt.xlabel(xlabel='time (h)',fontsize=20)\n",
    "plt.ylabel(ylabel='Outdoor Temperature (Cdeg)',fontsize=20)\n",
    "plt.savefig(\"Results\\Figures\\Toutdoor.png\")"
   ]
  },
  {
   "cell_type": "code",
   "execution_count": null,
   "metadata": {},
   "outputs": [],
   "source": [
    "qdhtot = sim.get_results_by_pattern(\"OUT*Base7*\")\n",
    "qdhtot.keys()\n",
    "plt.figure(figsize=(18, 8))\n",
    "plt.plot(qdhtot['OUT||Base7||HNET_QDH'], \"o-\", alpha=1)\n",
    "plt.xlabel(xlabel='time (h)',fontsize=20)\n",
    "plt.ylabel(ylabel='Heat load district (kW)',fontsize=20)\n",
    "plt.savefig(\"Results\\Figures\\S5_Qdh_tot.png\")"
   ]
  },
  {
   "cell_type": "code",
   "execution_count": null,
   "metadata": {},
   "outputs": [],
   "source": [
    "control1= sim.get_results_by_pattern(\"OUT*Base1*\")"
   ]
  },
  {
   "cell_type": "code",
   "execution_count": null,
   "metadata": {},
   "outputs": [],
   "source": [
    "import pandas as pd\n",
    "import numpy as np\n",
    "#df = pd.DataFrame(qdhtot['OUT||Base7||HNET_QDH'],columns=['QDHtot_kW'])\n",
    "df = pd.DataFrame({'QDHtot_kW':qdhtot['OUT||Base7||HNET_QDH'],\n",
    "                   'Tindoor0_Cdeg':apt['OUT||Base3||Tindoor'],\n",
    "                   'Tindoor1_Cdeg':apt['OUT||Base3_1||Tindoor'],\n",
    "                   'QDHapt0_W':apt['OUT||Base3||QDH'],\n",
    "                   'QDHapt1_W':apt['OUT||Base3_1||QDH'],\n",
    "                   'Tthermo0_Cdeg':control['OUT||Base0||Tth_0'],\n",
    "                   'Tthermo1_Cdeg':control['OUT||Base0||Tth_1'],\n",
    "                   'TsetP_Cdeg':control['OUT||Base0||TsetP'],\n",
    "                   'COG_MDOTtoTES_kgs':cogtes['OUT||Base2||COG_MDOTtoTES'],\n",
    "                   'COG_MDOTfromTES_kgs':cogtes['OUT||Base2||COG_MDOTfromTES'],\n",
    "                   'COG_MDOTtoLOAD_kgs':cogtes['OUT||Base2||COG_MDOTtoLOAD'],\n",
    "                   'HOB_Q_kW':boiler['OUT||Base4||HOB_Q'],\n",
    "                   'HOB_Flag':control1['OUT||Base1||HOB_FlagOUT'],\n",
    "                   'HOB_mdotOUT':boiler['OUT||Base4||HOB_MDOTout']})\n",
    "df.to_csv('Results\\Files\\S5.csv')"
   ]
  },
  {
   "cell_type": "code",
   "execution_count": null,
   "metadata": {},
   "outputs": [],
   "source": [
    "#for key, value in sim.get_results_by_pattern(\"IN*Base8*\").items():\n",
    " #   print(key)\n",
    "  #  print(value) \n",
    "    \n",
    "dff = pd.DataFrame(sim.get_results_by_pattern(\"OUT*Base8*\"))\n",
    "dff.to_csv('Results\\Files\\isel.csv')\n",
    "print(dff)"
   ]
  },
  {
   "cell_type": "code",
   "execution_count": null,
   "metadata": {},
   "outputs": [],
   "source": [
    "for key, value in sim.get_results_by_pattern(\"OUT*Base1*\").items():\n",
    "    print(key)\n",
    "    print(value) "
   ]
  },
  {
   "cell_type": "code",
   "execution_count": null,
   "metadata": {},
   "outputs": [],
   "source": []
  },
  {
   "cell_type": "code",
   "execution_count": null,
   "metadata": {},
   "outputs": [],
   "source": []
  }
 ],
 "metadata": {
  "kernelspec": {
   "display_name": "Python 3",
   "language": "python",
   "name": "python3"
  },
  "language_info": {
   "codemirror_mode": {
    "name": "ipython",
    "version": 3
   },
   "file_extension": ".py",
   "mimetype": "text/x-python",
   "name": "python",
   "nbconvert_exporter": "python",
   "pygments_lexer": "ipython3",
   "version": "3.6.5"
  }
 },
 "nbformat": 4,
 "nbformat_minor": 2
}
