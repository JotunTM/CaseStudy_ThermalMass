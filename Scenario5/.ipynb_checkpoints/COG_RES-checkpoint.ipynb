{
 "cells": [
  {
   "cell_type": "markdown",
   "metadata": {},
   "source": [
    "# EnergyPlus and TRNSYS Example"
   ]
  },
  {
   "cell_type": "code",
   "execution_count": 1,
   "metadata": {},
   "outputs": [],
   "source": [
    "import os\n",
    "from zerobnl import CoSim"
   ]
  },
  {
   "cell_type": "markdown",
   "metadata": {},
   "source": [
    "You can safely ignore the following error (it will also be in the nodes logs):\n",
    "\n",
    "RuntimeWarning: numpy.dtype size changed, may indicate binary incompatibility. Expected 96, got 88\n",
    "\n",
    "-> [Numpy documentation](https://github.com/numpy/numpy/pull/432)"
   ]
  },
  {
   "cell_type": "code",
   "execution_count": 6,
   "metadata": {
    "scrolled": true
   },
   "outputs": [
    {
     "ename": "AssertionError",
     "evalue": "Base3.QDH ---> Cdeg != W ---> Base2.QDH",
     "output_type": "error",
     "traceback": [
      "\u001b[1;31m---------------------------------------------------------------------------\u001b[0m",
      "\u001b[1;31mAssertionError\u001b[0m                            Traceback (most recent call last)",
      "\u001b[1;32m<ipython-input-6-b1793f835235>\u001b[0m in \u001b[0;36m<module>\u001b[1;34m()\u001b[0m\n\u001b[0;32m     28\u001b[0m \u001b[0msim\u001b[0m\u001b[1;33m.\u001b[0m\u001b[0madd_link\u001b[0m\u001b[1;33m(\u001b[0m\u001b[1;34m\"Base1\"\u001b[0m\u001b[1;33m,\u001b[0m \u001b[1;34m\"COGwflag\"\u001b[0m\u001b[1;33m,\u001b[0m \u001b[1;34m\"Base2\"\u001b[0m\u001b[1;33m,\u001b[0m \u001b[1;34m\"COGw_Flag\"\u001b[0m\u001b[1;33m)\u001b[0m \u001b[1;31m# get from Base1 and set to Base0\u001b[0m\u001b[1;33m\u001b[0m\u001b[0m\n\u001b[0;32m     29\u001b[0m \u001b[0msim\u001b[0m\u001b[1;33m.\u001b[0m\u001b[0madd_link\u001b[0m\u001b[1;33m(\u001b[0m\u001b[1;34m\"Base2\"\u001b[0m\u001b[1;33m,\u001b[0m \u001b[1;34m\"MDOTsupply\"\u001b[0m\u001b[1;33m,\u001b[0m \u001b[1;34m\"Base0\"\u001b[0m\u001b[1;33m,\u001b[0m \u001b[1;34m\"mdotTOT\"\u001b[0m\u001b[1;33m)\u001b[0m \u001b[1;31m# get from Base1 and set to Base0\u001b[0m\u001b[1;33m\u001b[0m\u001b[0m\n\u001b[1;32m---> 30\u001b[1;33m \u001b[0msim\u001b[0m\u001b[1;33m.\u001b[0m\u001b[0madd_link\u001b[0m\u001b[1;33m(\u001b[0m\u001b[1;34m\"Base3\"\u001b[0m\u001b[1;33m,\u001b[0m \u001b[1;34m\"QDH\"\u001b[0m\u001b[1;33m,\u001b[0m \u001b[1;34m\"Base2\"\u001b[0m\u001b[1;33m,\u001b[0m \u001b[1;34m\"QDH\"\u001b[0m\u001b[1;33m)\u001b[0m \u001b[1;31m# get from Base1 and set to Base0\u001b[0m\u001b[1;33m\u001b[0m\u001b[0m\n\u001b[0m\u001b[0;32m     31\u001b[0m \u001b[0msim\u001b[0m\u001b[1;33m.\u001b[0m\u001b[0madd_link\u001b[0m\u001b[1;33m(\u001b[0m\u001b[1;34m\"Base3\"\u001b[0m\u001b[1;33m,\u001b[0m \u001b[1;34m\"Tindoor\"\u001b[0m\u001b[1;33m,\u001b[0m \u001b[1;34m\"Base0\"\u001b[0m\u001b[1;33m,\u001b[0m \u001b[1;34m\"Tindoor\"\u001b[0m\u001b[1;33m)\u001b[0m \u001b[1;31m# get from Base1 and set to Base0\u001b[0m\u001b[1;33m\u001b[0m\u001b[0m\n\u001b[0;32m     32\u001b[0m \u001b[1;33m\u001b[0m\u001b[0m\n",
      "\u001b[1;32mc:\\sourcecodes\\zerobnl\\zerobnl\\simulation\\create.py\u001b[0m in \u001b[0;36madd_link\u001b[1;34m(self, get_node, get_attr, set_node, set_attr)\u001b[0m\n\u001b[0;32m     84\u001b[0m \u001b[1;33m\u001b[0m\u001b[0m\n\u001b[0;32m     85\u001b[0m         assert get_unit == set_unit, \"{}.{} ---> {} != {} ---> {}.{}\".format(\n\u001b[1;32m---> 86\u001b[1;33m             \u001b[0mget_node\u001b[0m\u001b[1;33m,\u001b[0m \u001b[0mget_attr\u001b[0m\u001b[1;33m,\u001b[0m \u001b[0mget_unit\u001b[0m\u001b[1;33m,\u001b[0m \u001b[0mset_unit\u001b[0m\u001b[1;33m,\u001b[0m \u001b[0mset_node\u001b[0m\u001b[1;33m,\u001b[0m \u001b[0mset_attr\u001b[0m\u001b[1;33m\u001b[0m\u001b[0m\n\u001b[0m\u001b[0;32m     87\u001b[0m         )\n\u001b[0;32m     88\u001b[0m \u001b[1;33m\u001b[0m\u001b[0m\n",
      "\u001b[1;31mAssertionError\u001b[0m: Base3.QDH ---> Cdeg != W ---> Base2.QDH"
     ]
    }
   ],
   "source": [
    "sim = CoSim()\n",
    "\n",
    "# There are 4 environments in this example.\n",
    "\n",
    "sim.create_meta_model(\"MetaPLANT\", [(\"QDH\", \"W\"),(\"COGw_Flag\",\"-\")], [(\"Tsupply\", \"Cdeg\"),(\"MDOTsupply\", \"kgs\")]) # Set, Get\n",
    "sim.create_environment(\"EnvPLANT\", \"wrapper_plant.py\", \"Dockerfile_na\")\n",
    "\n",
    "sim.create_meta_model(\"MetaDEM\", [(\"Tthermostat\", \"Cdeg\")], [(\"QDH\", \"W\"),(\"Tindoor\",\"Cdeg\")]) # Set, Get\n",
    "sim.create_environment(\"EnvDEM\", \"wrapper_dem.py\", \"Dockerfile_na\")\n",
    "\n",
    "sim.create_meta_model(\"MetaCTRL\", [(\"demandOK\", \"-\")], [(\"COGwflag\", \"-\")]) # Set, Get\n",
    "sim.create_environment(\"EnvCTRL\", \"wrapper_ctrl.py\", \"Dockerfile_ctrl\")\n",
    "\n",
    "sim.create_meta_model(\"MetaLCTRL\", [(\"Tindoor\", \"Cdeg\"),(\"mdotTOT\", \"kgs\")], [(\"Tth\", \"Cdeg\"),(\"demandFlag\", \"-\")]) # Set, Get\n",
    "sim.create_environment(\"EnvLCTRL\", \"wrapper_lctrl.py\", \"Dockerfile_lctrl\")\n",
    "\n",
    "# There is one model per each environment in this example. \n",
    "# OBS!! The name Base# indicates a model. Each model is contained in a node. There can be more nodes in each environment.\n",
    "sim.add_node(\"Base0\", \"MetaLCTRL\", \"EnvLCTRL\", init_values={},local=False)\n",
    "sim.add_node(\"Base1\", \"MetaCTRL\", \"EnvCTRL\", init_values={},local=False)\n",
    "sim.add_node(\"Base2\", \"MetaPLANT\", \"EnvPLANT\", init_values={\"QDH\":2000,\"COGw_Flag\":1}, files=[\"COGplant.fmu\"],local=True)\n",
    "sim.add_node(\"Base3\", \"MetaDEM\", \"EnvDEM\", init_values={}, files=[\"Residential_DH.fmu\"],local=True)\n",
    "\n",
    "\n",
    "# Links among nodes\n",
    "sim.add_link(\"Base0\", \"Tth\", \"Base3\", \"Tthermostat\") # get from Base0 and set to Base1\n",
    "sim.add_link(\"Base0\", \"demandFlag\", \"Base1\", \"demandOK\") # get from Base0 and set to Base1\n",
    "sim.add_link(\"Base1\", \"COGwflag\", \"Base2\", \"COGw_Flag\") # get from Base1 and set to Base0\n",
    "sim.add_link(\"Base2\", \"MDOTsupply\", \"Base0\", \"mdotTOT\") # get from Base1 and set to Base0\n",
    "sim.add_link(\"Base3\", \"QDH\", \"Base2\", \"QDH\") # get from Base1 and set to Base0\n",
    "sim.add_link(\"Base3\", \"Tindoor\", \"Base0\", \"Tindoor\") # get from Base1 and set to Base0\n",
    "\n",
    "# Create groups from the simulation sequence. Nodes in the same group run in parallel. \n",
    "# A group is defined within the first level of square brackets.\n",
    "sim.create_sequence([[\"Base0\"], [\"Base1\"],[\"Base2\"],[\"Base3\"]])\n",
    "sim.set_time_unit(\"seconds\")\n",
    "sim.create_steps([3600] * 24)"
   ]
  },
  {
   "cell_type": "markdown",
   "metadata": {},
   "source": [
    "Once the next step has been launched, logging `INFO :: Waiting for local nodes to run..`, you need to run tho following command `wrapper_eplus.py Base1 GRP1` in the indicated folder (in a dedicated environment) in order to run the local node."
   ]
  },
  {
   "cell_type": "code",
   "execution_count": null,
   "metadata": {
    "scrolled": true
   },
   "outputs": [],
   "source": [
    "sim.run()"
   ]
  },
  {
   "cell_type": "markdown",
   "metadata": {},
   "source": [
    "If you see `INFO :: Simulation finished in X min and Y sec` it means everything went well.\n",
    "You can find logs of the nodes in the file `nodes.log`, it's a text file you can open it directly in Jupyter or in your favorite text editor.\n",
    "\n",
    "At the begining of the file you will find a serie of:\n",
    "\n",
    "`Step X/10 : DO SOMETHING\n",
    " ---> 29d2f3226daf`\n",
    " \n",
    "It's the logs of the creation of the Docker image, based on the provided Dockerfile (here `Dockerfile_base`).\n",
    "\n",
    "Then all the logs are structures in the same way:\n",
    "\n",
    "`<node>    | <level> :: <message>`\n",
    "\n",
    "* `node` refers to the concerned simulation node or orchestrator\n",
    "* `level` can be `DEBUG`: used for development purpose, `INFO`: giving you info on the running process, `WARNING`: warning you on action to make or some weird behaviour, `ERROR`: something went wrong and `CRITICAL`: something went really wrong.\n",
    "* `message` is the body of the log, it describes what's happening."
   ]
  },
  {
   "cell_type": "markdown",
   "metadata": {},
   "source": [
    "You can also find information on the ongoing simulation in the file `activity.log` (in the root folder for the main processus and on the temporary folder for each node)"
   ]
  },
  {
   "cell_type": "code",
   "execution_count": null,
   "metadata": {},
   "outputs": [],
   "source": [
    "sim.connect_to_results_db()\n",
    "sim.get_list_of_available_results()"
   ]
  },
  {
   "cell_type": "markdown",
   "metadata": {},
   "source": [
    "The name to the stored results are build as `<type>||<node>||<attribute>`.\n",
    "\n",
    "`type` can be:\n",
    "* `IN` if it's an input attribute (to set - stored automatically)\n",
    "* `OUT` if it's an output attribute (to get - stored automatically)\n",
    "* `X` if it's an internal value (stored by the user, using the `save_attribute()` method in the wrapper)\n",
    "\n",
    "Knowing this, you can create matching pattern using `*` in order to properly select results."
   ]
  },
  {
   "cell_type": "code",
   "execution_count": null,
   "metadata": {},
   "outputs": [],
   "source": [
    "for key, value in sim.get_results_by_pattern(\"OUT*Base0*\").items():\n",
    "    print(key)\n",
    "    print(value)   "
   ]
  },
  {
   "cell_type": "code",
   "execution_count": null,
   "metadata": {},
   "outputs": [],
   "source": [
    "import matplotlib.pyplot as plt\n",
    "for key, value in sim.get_results_by_pattern(\"OUT*Base1*\").items():\n",
    "    plt.figure(figsize=(18, 8))\n",
    "    plt.plot(value, \"o-\", label=\"Treturn_DH\", alpha=1)\n",
    "    plt.legend()"
   ]
  },
  {
   "cell_type": "code",
   "execution_count": null,
   "metadata": {},
   "outputs": [],
   "source": [
    "for key, value in sim.get_results_by_pattern(\"IN*Base0*\").items():\n",
    "    print(key)\n",
    "    print(value)"
   ]
  },
  {
   "cell_type": "code",
   "execution_count": null,
   "metadata": {},
   "outputs": [],
   "source": [
    "for key, value in sim.get_results_by_pattern(\"IN*Base1*\").items():\n",
    "    print(key)\n",
    "    print(value)"
   ]
  },
  {
   "cell_type": "code",
   "execution_count": null,
   "metadata": {},
   "outputs": [],
   "source": [
    "for key, value in sim.get_results_by_pattern(\"OUT*Base1*\").items():\n",
    "    print(key)\n",
    "    print(value)"
   ]
  },
  {
   "cell_type": "code",
   "execution_count": null,
   "metadata": {},
   "outputs": [],
   "source": []
  }
 ],
 "metadata": {
  "kernelspec": {
   "display_name": "Python 3",
   "language": "python",
   "name": "python3"
  },
  "language_info": {
   "codemirror_mode": {
    "name": "ipython",
    "version": 3
   },
   "file_extension": ".py",
   "mimetype": "text/x-python",
   "name": "python",
   "nbconvert_exporter": "python",
   "pygments_lexer": "ipython3",
   "version": "3.6.5"
  }
 },
 "nbformat": 4,
 "nbformat_minor": 2
}
