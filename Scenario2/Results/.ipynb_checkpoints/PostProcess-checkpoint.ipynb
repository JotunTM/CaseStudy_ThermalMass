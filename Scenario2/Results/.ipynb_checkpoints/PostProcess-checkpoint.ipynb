{
 "cells": [
  {
   "cell_type": "code",
   "execution_count": 1,
   "metadata": {},
   "outputs": [],
   "source": [
    "import pandas as pd\n",
    "import numpy as np"
   ]
  },
  {
   "cell_type": "code",
   "execution_count": 2,
   "metadata": {},
   "outputs": [],
   "source": [
    "cp = 4.186 # kJ/kg/K\n",
    "dT_BL = 75-54\n",
    "COG_theff = 0.37\n",
    "TES_eff = 1 # Neglect heat losses\n",
    "HOB_eff = 0.8"
   ]
  },
  {
   "cell_type": "code",
   "execution_count": 3,
   "metadata": {},
   "outputs": [],
   "source": [
    "df=pd.read_csv('Files\\S2.csv')"
   ]
  },
  {
   "cell_type": "code",
   "execution_count": 4,
   "metadata": {},
   "outputs": [
    {
     "name": "stdout",
     "output_type": "stream",
     "text": [
      "248909.4876876276\n",
      "3239.1368651325347\n",
      "1881.4825425427903\n",
      "254030.10709530296\n"
     ]
    }
   ],
   "source": [
    "# Primary energy\n",
    "COG_Qp = sum(df['COG_MDOTtoLOAD_kgs'])+sum(df['COG_MDOTtoTES_kgs'])*cp*dT_BL/COG_theff/1000 # MWh\n",
    "print(COG_Qp)\n",
    "TES_Qp = sum(df['COG_MDOTfromTES_kgs'])*cp*dT_BL/TES_eff/1000 # MWh\n",
    "print(TES_Qp)\n",
    "HOB_Qp = sum(df['HOB_Q_kW'])/HOB_eff/1000 # MWh\n",
    "print(HOB_Qp)\n",
    "TOT_Qp = COG_Qp + TES_Qp + HOB_Qp \n",
    "print(TOT_Qp)"
   ]
  },
  {
   "cell_type": "code",
   "execution_count": 5,
   "metadata": {},
   "outputs": [
    {
     "name": "stdout",
     "output_type": "stream",
     "text": [
      "5476208.729127808\n",
      "2953.927591792181\n"
     ]
    }
   ],
   "source": [
    "# Opex for the utility\n",
    "COG_opex = 21 * COG_Qp + COG_Qp + 200 # O&Mvar + fuel _ Network and fixed O&Mfix are neglected\n",
    "# TES neglected\n",
    "HOB_opex = 1.57 * HOB_Qp # O&Mvar + fuel _ O&Mfix are neglected\n",
    "print(COG_opex)\n",
    "print(HOB_opex)"
   ]
  },
  {
   "cell_type": "code",
   "execution_count": 6,
   "metadata": {},
   "outputs": [
    {
     "name": "stdout",
     "output_type": "stream",
     "text": [
      "4231.461290689669\n",
      "515.5262166567245\n"
     ]
    }
   ],
   "source": [
    "# Emissions\n",
    "CO2f = 17 # gr/kWh_fuel\n",
    "CO2f_peak = 274 # gr/kWh_fuel \n",
    "COG_co2 = CO2f * COG_Qp /1000 # t\n",
    "# TES neglected\n",
    "HOB_co2 = CO2f_peak * HOB_Qp/1000 # t\n",
    "print(COG_co2)\n",
    "print(HOB_co2)"
   ]
  },
  {
   "cell_type": "code",
   "execution_count": 7,
   "metadata": {},
   "outputs": [
    {
     "name": "stdout",
     "output_type": "stream",
     "text": [
      "704.7914213056665\n",
      "684.2847927549152\n"
     ]
    }
   ],
   "source": [
    "# Heat energy consumed by the users\n",
    "Apt0_Qth = sum(df['QDHapt0_W'])/1000 # kWh \n",
    "Apt1_Qth = sum(df['QDHapt1_W'])/1000 # kWh \n",
    "print(Apt0_Qth)\n",
    "print(Apt1_Qth)"
   ]
  },
  {
   "cell_type": "code",
   "execution_count": 8,
   "metadata": {},
   "outputs": [
    {
     "name": "stdout",
     "output_type": "stream",
     "text": [
      "493.3539949139665\n",
      "478.9993549284406\n"
     ]
    }
   ],
   "source": [
    "# Bill for the consumers\n",
    "Apt0_Bvar = Apt0_Qth * 0.7\n",
    "Apt1_Bvar = Apt1_Qth * 0.7\n",
    "print(Apt0_Bvar)\n",
    "print(Apt1_Bvar)"
   ]
  },
  {
   "cell_type": "code",
   "execution_count": 11,
   "metadata": {},
   "outputs": [],
   "source": [
    "with open('..\\..\\Collection.csv', 'a') as f:    \n",
    "    dff = pd.DataFrame({'COGopex_sek':COG_opex,\n",
    "                       'HOBopex_sek':HOB_opex,\n",
    "                       'COGco2_t':COG_co2,\n",
    "                       'HOBco2_t':HOB_co2,\n",
    "                       'Apt0Bvar_sek':Apt0_Bvar,\n",
    "                       'Apt1Bvar_sek':Apt1_Bvar},index=list('2'))\n",
    "    dff.to_csv(f, header=False)"
   ]
  },
  {
   "cell_type": "code",
   "execution_count": null,
   "metadata": {},
   "outputs": [],
   "source": []
  }
 ],
 "metadata": {
  "kernelspec": {
   "display_name": "Python 3",
   "language": "python",
   "name": "python3"
  },
  "language_info": {
   "codemirror_mode": {
    "name": "ipython",
    "version": 3
   },
   "file_extension": ".py",
   "mimetype": "text/x-python",
   "name": "python",
   "nbconvert_exporter": "python",
   "pygments_lexer": "ipython3",
   "version": "3.6.5"
  }
 },
 "nbformat": 4,
 "nbformat_minor": 2
}
